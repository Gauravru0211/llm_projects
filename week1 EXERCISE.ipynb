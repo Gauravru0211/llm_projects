{
 "cells": [
  {
   "cell_type": "markdown",
   "id": "fe12c203-e6a6-452c-a655-afb8a03a4ff5",
   "metadata": {},
   "source": [
    "# End of week 1 exercise\n",
    "\n",
    "To demonstrate your familiarity with OpenAI API, and also Ollama, build a tool that takes a technical question,  \n",
    "and responds with an explanation. This is a tool that you will be able to use yourself during the course!"
   ]
  },
  {
   "cell_type": "code",
   "execution_count": 18,
   "id": "c1070317-3ed9-4659-abe3-828943230e03",
   "metadata": {},
   "outputs": [],
   "source": [
    "# imports\n",
    "#Checking the modification version 2\n",
    "import os\n",
    "import requests\n",
    "from dotenv import load_dotenv\n",
    "from bs4 import BeautifulSoup\n",
    "from IPython.display import Markdown, display\n",
    "from openai import OpenAI\n",
    "\n",
    "# If you get an error running this cell, then please head over to the troubleshooting notebook!"
   ]
  },
  {
   "cell_type": "code",
   "execution_count": 19,
   "id": "0a2aecc8-fa33-41e5-8ec2-e16f663dd901",
   "metadata": {},
   "outputs": [],
   "source": [
    "# Load environment variables in a file called .env\n",
    "\n",
    "load_dotenv(override=True)\n",
    "api_key = os.getenv('OPENAI_API_KEY')"
   ]
  },
  {
   "cell_type": "code",
   "execution_count": 20,
   "id": "f9d800ca-b536-4019-99cb-8af559f347a5",
   "metadata": {},
   "outputs": [],
   "source": [
    "openai = OpenAI()"
   ]
  },
  {
   "cell_type": "code",
   "execution_count": 21,
   "id": "cc8aa3f5-6c43-431d-bcab-13b519cb90f0",
   "metadata": {},
   "outputs": [],
   "source": [
    "system_prompt = \"You are a tool that has an ability to explain anything asked to it \\\n",
    "and provides a short summary of the explanation of the question asked. \\\n",
    "Respond in markdown.\""
   ]
  },
  {
   "cell_type": "code",
   "execution_count": 22,
   "id": "7066207e-b21b-4ea5-a12a-23bab358c697",
   "metadata": {},
   "outputs": [],
   "source": [
    "# A function that writes a User Prompt that asks for summaries of websites:\n",
    "\n",
    "def user_prompt_for(question):\n",
    "    user_prompt = f\"Can you give a summary of this question asked. Question is as follows: \"\n",
    "    user_prompt += \" \"\n",
    "    user_prompt += question\n",
    "    return user_prompt"
   ]
  },
  {
   "cell_type": "code",
   "execution_count": 23,
   "id": "635ef584-d01f-4fbd-a1da-f427faab1f47",
   "metadata": {},
   "outputs": [
    {
     "data": {
      "text/plain": [
       "'Can you give a summary of this question asked. Question is as follows:  am I gaurav?'"
      ]
     },
     "execution_count": 23,
     "metadata": {},
     "output_type": "execute_result"
    }
   ],
   "source": [
    "user_prompt_for(\"am I gaurav?\")"
   ]
  },
  {
   "cell_type": "code",
   "execution_count": 24,
   "id": "81961a0b-9387-428f-bd55-fa68d9f77ca4",
   "metadata": {},
   "outputs": [],
   "source": [
    " def messages_for(question):\n",
    "    return [\n",
    "        {\"role\": \"system\", \"content\": system_prompt},\n",
    "        {\"role\": \"user\", \"content\": user_prompt_for(question)}\n",
    "    ]"
   ]
  },
  {
   "cell_type": "code",
   "execution_count": 29,
   "id": "1a6bd698-ed68-43c5-98fb-a4dd009f35a9",
   "metadata": {},
   "outputs": [],
   "source": [
    "def summarize(question):\n",
    "    response = openai.chat.completions.create(\n",
    "        model = \"gpt-4o-mini\",\n",
    "        messages = messages_for(question)\n",
    "    )\n",
    "    return response.choices[0].message.content"
   ]
  },
  {
   "cell_type": "code",
   "execution_count": 30,
   "id": "41362e38-a9a6-401f-8129-be872f8f74c0",
   "metadata": {},
   "outputs": [],
   "source": [
    "def display_summary(question):\n",
    "    summary = summarize(question)\n",
    "    display(Markdown(summary))"
   ]
  },
  {
   "cell_type": "code",
   "execution_count": 31,
   "id": "49a1bb2d-5297-4658-86e2-1204d863ff1f",
   "metadata": {},
   "outputs": [],
   "source": [
    "# here is the question; type over this to ask something new\n",
    "\n",
    "question = \"\"\"\n",
    "Please explain what this code does and why:\n",
    "yield from {book.get(\"author\") for book in books if book.get(\"author\")}\n",
    "\"\"\""
   ]
  },
  {
   "cell_type": "code",
   "execution_count": 32,
   "id": "6c980e1e-97b1-4681-9d8c-e6abceb2fa75",
   "metadata": {},
   "outputs": [
    {
     "data": {
      "text/markdown": [
       "### Summary of the Question\n",
       "\n",
       "The question asks for an explanation of a specific piece of Python code that uses a generator expression combined with the `yield from` statement. It inquires about the function of the code and the reasoning behind its design.\n",
       "\n",
       "### Explanation\n",
       "\n",
       "The code snippet:\n",
       "\n",
       "```python\n",
       "yield from {book.get(\"author\") for book in books if book.get(\"author\")}\n",
       "```\n",
       "\n",
       "#### Breakdown:\n",
       "\n",
       "- **`yield from`**: This statement is used in generator functions to yield values from a generator or iterable. It allows the function to yield all values from another iterable, managing the iteration and returning values seamlessly.\n",
       "\n",
       "- **Set comprehension**: The expression `{book.get(\"author\") for book in books if book.get(\"author\")}` creates a set of authors. \n",
       "  - `book.get(\"author\")`: This retrieves the value associated with the key \"author\" from each `book` dictionary.\n",
       "  - `for book in books`: Iterates through a collection named `books`.\n",
       "  - `if book.get(\"author\")`: This condition filters out any books that do not have an author defined (i.e., it only includes books with an actual author).\n",
       "\n",
       "#### Purpose:\n",
       "\n",
       "The overall purpose of this code is to generate a set of unique authors from a list of books, thus avoiding duplicates. The `yield from` allows the generator function to yield these unique author names one by one as they are requested. This can be useful in scenarios where you want to process or display each unique author without having to load all values into memory at once.\n",
       "\n",
       "### Summary\n",
       "\n",
       "The provided code creates a generator that yields unique authors from a list of books, filtered to avoid entries without an author, using a set comprehension to ensure uniqueness."
      ],
      "text/plain": [
       "<IPython.core.display.Markdown object>"
      ]
     },
     "metadata": {},
     "output_type": "display_data"
    }
   ],
   "source": [
    "display_summary(question)"
   ]
  },
  {
   "cell_type": "code",
   "execution_count": 33,
   "id": "e793d5c2-80bc-4420-abad-3d2b7ce9723e",
   "metadata": {},
   "outputs": [],
   "source": [
    "from openai import OpenAI\n",
    "ollama_via_openai = OpenAI(base_url='http://localhost:11434/v1', api_key='ollama')\n",
    "\n",
    "def summarize_llama(question):\n",
    "    response = ollama_via_openai.chat.completions.create(\n",
    "        model = \"llama3.2\",\n",
    "        messages = messages_for(question)\n",
    "    )\n",
    "    return response.choices[0].message.content"
   ]
  },
  {
   "cell_type": "code",
   "execution_count": 34,
   "id": "68cd6eda-23e4-4dec-83c3-b9cc6a1e053b",
   "metadata": {},
   "outputs": [],
   "source": [
    "def display_summary_llama(question):\n",
    "    summary = summarize_llama(question)\n",
    "    display(Markdown(summary))"
   ]
  },
  {
   "cell_type": "code",
   "execution_count": 35,
   "id": "00081a65-071d-42a7-8485-0addaebfcf6a",
   "metadata": {},
   "outputs": [
    {
     "data": {
      "text/markdown": [
       "**Code Explanation**\n",
       "\n",
       "### Generator Expression\n",
       "The provided code snippet uses a generator expression to yield the \"author\" values from an iterable (`books`) of dictionaries.\n",
       "\n",
       "```markdown\n",
       "{ book.get(\"author\") for book in books if book.get(\"author\") }\n",
       "```\n",
       "\n",
       "*   `for book in books`: Iterates over each dictionary (`book`) in the `books` iterable.\n",
       "*   `if book.get(\"author\")`: Filters out dictionaries without an \"author\" key.\n",
       "\n",
       "### Yield from\n",
       "\n",
       "```markdown\n",
       "yield from { book.get(\"author\") for book in books if book.get(\"author\") }\n",
       "```\n",
       "\n",
       "*   This expression yields values from the generator expression, essentially flattening the results.\n",
       "*   The `yield from` statement is used to delegate a nested iteration to a sub-generator.\n",
       "\n",
       "### Summary\n",
       "In summary, this code snippet uses a combination of dictionary filtering and `yield from` to extract \"author\" values from dictionaries in an iterable. It effectively provides a concise way to process these dictionaries while ensuring that only dictionaries with the expected key exist in the iteration.\n",
       "\n",
       "### Example Output\n",
       "\n",
       "If `books` is a list of dictionaries like so:\n",
       "\n",
       "```python\n",
       "[\n",
       "    {\"title\": \"Book 1\", \"author\": \"Author 1\"},\n",
       "    {\"title\": \"Book 2\", \"author\": None},\n",
       "    {\"title\": \"Book 3\"}\n",
       "]\n",
       "```\n",
       "\n",
       "The code will yield the following values (authors):\n",
       "\n",
       "```markdown\n",
       "['Author 1']\n",
       "```\n",
       "\n",
       "Due to dictionary filtering (`books if book.get(\"author\")`). The `yield from` expression flattens the results, so we get a single list element with 'Author 1'."
      ],
      "text/plain": [
       "<IPython.core.display.Markdown object>"
      ]
     },
     "metadata": {},
     "output_type": "display_data"
    }
   ],
   "source": [
    "display_summary_llama(question)"
   ]
  }
 ],
 "metadata": {
  "kernelspec": {
   "display_name": "Python 3 (ipykernel)",
   "language": "python",
   "name": "python3"
  },
  "language_info": {
   "codemirror_mode": {
    "name": "ipython",
    "version": 3
   },
   "file_extension": ".py",
   "mimetype": "text/x-python",
   "name": "python",
   "nbconvert_exporter": "python",
   "pygments_lexer": "ipython3",
   "version": "3.11.11"
  }
 },
 "nbformat": 4,
 "nbformat_minor": 5
}
